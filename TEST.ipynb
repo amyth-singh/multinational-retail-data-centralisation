{
 "cells": [
  {
   "cell_type": "code",
   "execution_count": 83,
   "metadata": {},
   "outputs": [
    {
     "data": {
      "text/plain": [
       "<sqlalchemy.engine.base.Connection at 0x17c23ede200>"
      ]
     },
     "execution_count": 83,
     "metadata": {},
     "output_type": "execute_result"
    }
   ],
   "source": [
    "import pandas as pd\n",
    "import psycopg2\n",
    "import yaml\n",
    "from yaml import Loader\n",
    "from sqlalchemy import create_engine\n",
    "from sqlalchemy import inspect\n",
    "\n",
    "class DatabaseConnector:\n",
    "    def read_db_creds():\n",
    "        yaml_file = open('db_creds.yaml', 'r')\n",
    "        data = yaml.load(yaml_file, Loader=Loader)\n",
    "        return data\n",
    "\n",
    "    def cred():\n",
    "        data = DatabaseConnector.read_db_creds()\n",
    "        database_type = 'postgresql'\n",
    "        dbapi = 'psycopg2'\n",
    "        host = data['RDS_HOST']\n",
    "        password = data['RDS_PASSWORD']\n",
    "        user = data['RDS_USER']\n",
    "        database = data['RDS_DATABASE']\n",
    "        port = data['RDS_PORT']\n",
    "        engine = create_engine(f\"{database_type}+{dbapi}://{user}:{password}@{host}:{port}/{database}\")\n",
    "        connect = engine.connect()\n",
    "        return connect\n",
    "\n",
    "a = DatabaseConnector\n",
    "a.cred()"
   ]
  },
  {
   "cell_type": "code",
   "execution_count": null,
   "metadata": {},
   "outputs": [],
   "source": []
  }
 ],
 "metadata": {
  "kernelspec": {
   "display_name": "base",
   "language": "python",
   "name": "python3"
  },
  "language_info": {
   "codemirror_mode": {
    "name": "ipython",
    "version": 3
   },
   "file_extension": ".py",
   "mimetype": "text/x-python",
   "name": "python",
   "nbconvert_exporter": "python",
   "pygments_lexer": "ipython3",
   "version": "3.10.9"
  },
  "orig_nbformat": 4
 },
 "nbformat": 4,
 "nbformat_minor": 2
}
