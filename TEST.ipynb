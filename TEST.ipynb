{
 "cells": [
  {
   "cell_type": "code",
   "execution_count": 148,
   "metadata": {},
   "outputs": [
    {
     "name": "stdout",
     "output_type": "stream",
     "text": [
      "('legacy_store_details',)\n",
      "('legacy_users',)\n",
      "('orders_table',)\n"
     ]
    }
   ],
   "source": [
    "from sqlalchemy import create_engine\n",
    "import pandas as pd\n",
    "import psycopg2\n",
    "import yaml\n",
    "from yaml import Loader\n",
    "\n",
    "class DatabaseConnector:\n",
    "    def read_db_creds():\n",
    "        yaml_file = open('db_creds.yaml', 'r')\n",
    "        data = yaml.load(yaml_file, Loader=Loader)\n",
    "        return data\n",
    "\n",
    "    def init_db_engine():\n",
    "        read_db = DatabaseConnector.read_db_creds()\n",
    "        return create_engine(f\"postgresql+psycopg2://{read_db['RDS_USER']}:{read_db['RDS_PASSWORD']}@{read_db['RDS_HOST']}:{read_db['RDS_PORT']}/{read_db['RDS_DATABASE']}\", echo=True)\n",
    "\n",
    "    def list_db_table():\n",
    "        data = DatabaseConnector.read_db_creds()\n",
    "        with psycopg2.connect(host=data['RDS_HOST'], user=data['RDS_USER'], password=data['RDS_PASSWORD'], dbname=data['RDS_DATABASE'], port=data['RDS_PORT']) as conn:\n",
    "            with conn.cursor() as cur:\n",
    "                cur.execute('''SELECT table_name FROM information_schema.tables WHERE table_schema = 'public';''')\n",
    "                for table in cur.fetchall():\n",
    "                    print(table)\n",
    "\n",
    "    def test():\n",
    "        \n",
    "\n",
    "a = DatabaseConnector\n",
    "a.list_db_table()"
   ]
  },
  {
   "cell_type": "code",
   "execution_count": null,
   "metadata": {},
   "outputs": [],
   "source": []
  }
 ],
 "metadata": {
  "kernelspec": {
   "display_name": "base",
   "language": "python",
   "name": "python3"
  },
  "language_info": {
   "codemirror_mode": {
    "name": "ipython",
    "version": 3
   },
   "file_extension": ".py",
   "mimetype": "text/x-python",
   "name": "python",
   "nbconvert_exporter": "python",
   "pygments_lexer": "ipython3",
   "version": "3.10.9"
  },
  "orig_nbformat": 4
 },
 "nbformat": 4,
 "nbformat_minor": 2
}
